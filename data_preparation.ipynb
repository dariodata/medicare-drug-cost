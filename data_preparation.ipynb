{
 "cells": [
  {
   "cell_type": "markdown",
   "metadata": {
    "collapsed": true
   },
   "source": [
    "# Data preprocessing"
   ]
  },
  {
   "cell_type": "code",
   "execution_count": null,
   "metadata": {
    "collapsed": true
   },
   "outputs": [],
   "source": [
    "import numpy as np\n",
    "import pandas as pd\n",
    "import matplotlib.pyplot as plt\n",
    "import seaborn as sns\n",
    "sns.set_palette('muted')\n",
    "sns.set_style('whitegrid')\n",
    "%matplotlib inline\n",
    "from fuzzywuzzy import fuzz\n",
    "from fuzzywuzzy import process\n",
    "from tqdm import tqdm, tqdm_notebook\n",
    "#tqdm_notebook().pandas()\n",
    "tqdm.pandas(tqdm_notebook)"
   ]
  },
  {
   "cell_type": "markdown",
   "metadata": {},
   "source": [
    "## Medicare data set"
   ]
  },
  {
   "cell_type": "markdown",
   "metadata": {},
   "source": [
    "This is the data preparation of the Medicare Drug Spending Part D dataset for the years 2011-2015."
   ]
  },
  {
   "cell_type": "markdown",
   "metadata": {},
   "source": [
    "### Read data, change labels and make year a variable"
   ]
  },
  {
   "cell_type": "code",
   "execution_count": 2,
   "metadata": {
    "collapsed": true
   },
   "outputs": [
    {
     "name": "stderr",
     "output_type": "stream",
     "text": [
      "/Users/dario/anaconda/envs/tensorflow/lib/python3.5/site-packages/ipykernel/__main__.py:22: SettingWithCopyWarning: \nA value is trying to be set on a copy of a slice from a DataFrame.\nTry using .loc[row_indexer,col_indexer] = value instead\n\nSee the caveats in the documentation: http://pandas.pydata.org/pandas-docs/stable/indexing.html#indexing-view-versus-copy\n/Users/dario/anaconda/envs/tensorflow/lib/python3.5/site-packages/ipykernel/__main__.py:23: SettingWithCopyWarning: \nA value is trying to be set on a copy of a slice from a DataFrame.\nTry using .loc[row_indexer,col_indexer] = value instead\n\nSee the caveats in the documentation: http://pandas.pydata.org/pandas-docs/stable/indexing.html#indexing-view-versus-copy\n/Users/dario/anaconda/envs/tensorflow/lib/python3.5/site-packages/ipykernel/__main__.py:24: SettingWithCopyWarning: \nA value is trying to be set on a copy of a slice from a DataFrame.\nTry using .loc[row_indexer,col_indexer] = value instead\n\nSee the caveats in the documentation: http://pandas.pydata.org/pandas-docs/stable/indexing.html#indexing-view-versus-copy\n/Users/dario/anaconda/envs/tensorflow/lib/python3.5/site-packages/ipykernel/__main__.py:25: SettingWithCopyWarning: \nA value is trying to be set on a copy of a slice from a DataFrame.\nTry using .loc[row_indexer,col_indexer] = value instead\n\nSee the caveats in the documentation: http://pandas.pydata.org/pandas-docs/stable/indexing.html#indexing-view-versus-copy\n/Users/dario/anaconda/envs/tensorflow/lib/python3.5/site-packages/ipykernel/__main__.py:26: SettingWithCopyWarning: \nA value is trying to be set on a copy of a slice from a DataFrame.\nTry using .loc[row_indexer,col_indexer] = value instead\n\nSee the caveats in the documentation: http://pandas.pydata.org/pandas-docs/stable/indexing.html#indexing-view-versus-copy\n"
     ]
    }
   ],
   "source": [
    "df = pd.read_excel('data/Medicare_Drug_Spending_PartD_All_Drugs_YTD_2015_12_06_2016.xlsx', \n",
    "                   sheetname='Data', skiprows=3)\n",
    "id_cols = ['Brand Name', 'Generic Name']\n",
    "cols_2011 = [col for col in df.columns if '2011' in col]\n",
    "cols_2012 = [col for col in df.columns if '2012' in col]\n",
    "cols_2013 = [col for col in df.columns if '2013' in col]\n",
    "cols_2014 = [col for col in df.columns if '2014' in col]\n",
    "cols_2015 = [col for col in df.columns if '2015' in col][:-1]\n",
    "col_names = ['Brand Name', 'Generic Name', 'Claim Count',\n",
    "       'Total Spending', 'Beneficiary Count',\n",
    "       'Total Annual Spending Per User', 'Unit Count',\n",
    "       'Average Cost Per Unit (Weighted)',\n",
    "       'Beneficiary Count No LIS',\n",
    "       'Average Beneficiary Cost Share No LIS',\n",
    "       'Beneficiary Count LIS',\n",
    "       'Average Beneficiary Cost Share LIS']\n",
    "df1 = df[id_cols + cols_2011]; df1.columns=col_names\n",
    "df2 = df[id_cols + cols_2012]; df2.columns=col_names\n",
    "df3 = df[id_cols + cols_2013]; df3.columns=col_names\n",
    "df4 = df[id_cols + cols_2014]; df4.columns=col_names\n",
    "df5 = df[id_cols + cols_2015]; df5.columns=col_names# + ['Annual Change in Average Cost Per Unit, 2015']\n",
    "df1['Year'] = 2011\n",
    "df2['Year'] = 2012\n",
    "df3['Year'] = 2013\n",
    "df4['Year'] = 2014\n",
    "df5['Year'] = 2015\n",
    "df5.columns\n",
    "data = df1.append([df2, df3, df4, df5])\n",
    "data['Generic Name'] = data['Generic Name'].apply(lambda x: x.lower()[:-1])\n",
    "data['Brand Name'] = data['Brand Name'].apply(lambda x: x.lower()[:-1])"
   ]
  },
  {
   "cell_type": "code",
   "execution_count": 6,
   "metadata": {},
   "outputs": [
    {
     "data": {
      "text/plain": [
       "Brand Name                                  0\nGeneric Name                                0\nClaim Count                              5188\nTotal Spending                           5188\nBeneficiary Count                        6065\nTotal Annual Spending Per User           6065\nUnit Count                               5188\nAverage Cost Per Unit (Weighted)         5188\nBeneficiary Count No LIS                 8252\nAverage Beneficiary Cost Share No LIS    8484\nBeneficiary Count LIS                    8252\nAverage Beneficiary Cost Share LIS       8398\nYear                                        0\ndtype: int64"
      ]
     },
     "execution_count": 6,
     "metadata": {},
     "output_type": "execute_result"
    }
   ],
   "source": [
    "data.isnull().sum()"
   ]
  },
  {
   "cell_type": "markdown",
   "metadata": {},
   "source": [
    "Drug-disease pair keys"
   ]
  },
  {
   "cell_type": "heading",
   "metadata": {},
   "level": 2,
   "source": [
    "Read data, change case"
   ]
  },
  {
   "cell_type": "code",
   "execution_count": 3,
   "metadata": {},
   "outputs": [],
   "source": [
    "diseases = pd.read_table('data/drug-disease_TTD2016.txt', skiprows=11)\n",
    "diseases['LNM'] = diseases['LNM'].apply(lambda x: x.lower())"
   ]
  },
  {
   "cell_type": "code",
   "execution_count": 11,
   "metadata": {},
   "outputs": [],
   "source": [
    "def match_drugname(name):\n",
    "    if name in diseases['LNM'].values:\n",
    "        return name\n",
    "    else:\n",
    "        p = process.extractOne(name, choices=diseases['LNM'], scorer=fuzz.token_set_ratio, score_cutoff=90)\n",
    "        if p:\n",
    "            return p[0]\n",
    "        else:\n",
    "            return np.nan\n",
    "\n",
    "def fuzzy_drugname(name):\n",
    "    p = process.extractOne(name, choices=diseases['LNM'], scorer=fuzz.token_set_ratio, score_cutoff=90)\n",
    "    if p:\n",
    "        return p[0]\n",
    "    else:\n",
    "        return np.nan"
   ]
  },
  {
   "cell_type": "code",
   "execution_count": 17,
   "metadata": {},
   "outputs": [
    {
     "data": {
      "text/plain": [
       "'emtricitabine'"
      ]
     },
     "execution_count": 17,
     "metadata": {},
     "output_type": "execute_result"
    }
   ],
   "source": [
    "process.extractOne('emtricitabine/tenofovir', choices=diseases['LNM'], scorer=fuzz.ratio)[0]"
   ]
  },
  {
   "cell_type": "code",
   "execution_count": 39,
   "metadata": {},
   "outputs": [
    {
     "data": {
      "text/plain": [
       "True"
      ]
     },
     "execution_count": 39,
     "metadata": {},
     "output_type": "execute_result"
    }
   ],
   "source": [
    "diseases[diseases['LNM']=='emtricitabine']['Indication'].iloc[0]\n",
    "'emtricitabine' in diseases['LNM'].values"
   ]
  },
  {
   "cell_type": "code",
   "execution_count": null,
   "metadata": {},
   "outputs": [],
   "source": [
    "data['Matched Drug Name'] = data['Generic Name'].progress_apply(match_drugname)#.map(lambda x: diseases[diseases['LNM']==x]['Indication'].iloc[0])"
   ]
  },
  {
   "cell_type": "code",
   "execution_count": null,
   "metadata": {},
   "outputs": [],
   "source": [
    "data['Indication'] = data['Matched Drug Name'].progress_apply(lambda x: diseases[diseases['LNM']==x]['Indication'].iloc[0] \\\n",
    "    if x in diseases['LNM'].values else np.nan)"
   ]
  },
  {
   "cell_type": "code",
   "execution_count": null,
   "metadata": {},
   "outputs": [],
   "source": [
    "data.to_csv('medicare_data_disease.csv')\n",
    "diseases.to_csv('drug-disease_keys.csv')"
   ]
  },
  {
   "cell_type": "code",
   "execution_count": null,
   "metadata": {},
   "outputs": [],
   "source": [
    "bhvdata = pd.read_sas('data/LLCP2015.xpt')\n",
    "bhvdata.MENTHLTH.hist()\n",
    "bhvdata.ADDEPEV2.hist()\n",
    "bhvdata.SXORIENT.hist()"
   ]
  }
 ],
 "metadata": {
  "kernelspec": {
   "display_name": "Python 2",
   "language": "python",
   "name": "python2"
  },
  "language_info": {
   "codemirror_mode": {
    "name": "ipython",
    "version": 2.0
   },
   "file_extension": ".py",
   "mimetype": "text/x-python",
   "name": "python",
   "nbconvert_exporter": "python",
   "pygments_lexer": "ipython2",
   "version": "2.7.6"
  }
 },
 "nbformat": 4,
 "nbformat_minor": 0
}